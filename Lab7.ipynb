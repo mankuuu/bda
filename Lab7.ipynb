{
 "cells": [
  {
   "cell_type": "code",
   "execution_count": 1,
   "id": "9881c211-d598-40d6-ad19-2bd12dc3ac0e",
   "metadata": {},
   "outputs": [],
   "source": [
    "from pyspark.sql import SparkSession"
   ]
  },
  {
   "cell_type": "code",
   "execution_count": 2,
   "id": "e79da735-443d-4fcf-ad19-8a353b4c1ba0",
   "metadata": {},
   "outputs": [],
   "source": [
    "spark = SparkSession.builder.appName(\"Lab07\").getOrCreate()"
   ]
  },
  {
   "cell_type": "code",
   "execution_count": 3,
   "id": "111b76a8-98bd-45ac-af19-db63d8a238ff",
   "metadata": {},
   "outputs": [],
   "source": [
    "df = spark.read.csv(\"data.csv\" , inferSchema = True , header = True)"
   ]
  },
  {
   "cell_type": "code",
   "execution_count": 5,
   "id": "3b1418a3-eca0-4f9f-92ed-d8a195d8b33b",
   "metadata": {},
   "outputs": [
    {
     "data": {
      "text/plain": [
       "['Ship_name',\n",
       " 'Cruise_line',\n",
       " 'Age',\n",
       " 'Tonnage',\n",
       " 'passengers',\n",
       " 'length',\n",
       " 'cabins',\n",
       " 'passenger_density',\n",
       " 'crew']"
      ]
     },
     "execution_count": 5,
     "metadata": {},
     "output_type": "execute_result"
    }
   ],
   "source": [
    "df.columns"
   ]
  },
  {
   "cell_type": "code",
   "execution_count": 6,
   "id": "2c1cb9ca-3aa0-4519-8006-d2bf902e19ba",
   "metadata": {},
   "outputs": [],
   "source": [
    "from pyspark.ml.feature import StringIndexer"
   ]
  },
  {
   "cell_type": "code",
   "execution_count": 7,
   "id": "3c057fa7-7d94-468b-9fcc-9bb718c9ffe3",
   "metadata": {},
   "outputs": [],
   "source": [
    "indexer = StringIndexer(inputCol = 'Cruise_line' , outputCol='cruise_cat')"
   ]
  },
  {
   "cell_type": "code",
   "execution_count": 8,
   "id": "22a4399e-324f-48b5-aaaa-1fa55c3faf36",
   "metadata": {},
   "outputs": [],
   "source": [
    "indexed = indexer.fit(df).transform(df)"
   ]
  },
  {
   "cell_type": "code",
   "execution_count": 9,
   "id": "8b80fe3c-bc47-45fb-b3a0-a5fadf42277c",
   "metadata": {},
   "outputs": [
    {
     "name": "stdout",
     "output_type": "stream",
     "text": [
      "+-----------+-----------+---+------------------+----------+------+------+-----------------+----+----------+\n",
      "|  Ship_name|Cruise_line|Age|           Tonnage|passengers|length|cabins|passenger_density|crew|cruise_cat|\n",
      "+-----------+-----------+---+------------------+----------+------+------+-----------------+----+----------+\n",
      "|    Journey|    Azamara|  6|30.276999999999997|      6.94|  5.94|  3.55|            42.64|3.55|      16.0|\n",
      "|      Quest|    Azamara|  6|30.276999999999997|      6.94|  5.94|  3.55|            42.64|3.55|      16.0|\n",
      "|Celebration|   Carnival| 26|            47.262|     14.86|  7.22|  7.43|             31.8| 6.7|       1.0|\n",
      "|   Conquest|   Carnival| 11|             110.0|     29.74|  9.53| 14.88|            36.99|19.1|       1.0|\n",
      "|    Destiny|   Carnival| 17|           101.353|     26.42|  8.92| 13.21|            38.36|10.0|       1.0|\n",
      "|    Ecstasy|   Carnival| 22|            70.367|     20.52|  8.55|  10.2|            34.29| 9.2|       1.0|\n",
      "|    Elation|   Carnival| 15|            70.367|     20.52|  8.55|  10.2|            34.29| 9.2|       1.0|\n",
      "|    Fantasy|   Carnival| 23|            70.367|     20.56|  8.55| 10.22|            34.23| 9.2|       1.0|\n",
      "|Fascination|   Carnival| 19|            70.367|     20.52|  8.55|  10.2|            34.29| 9.2|       1.0|\n",
      "|    Freedom|   Carnival|  6|110.23899999999999|      37.0|  9.51| 14.87|            29.79|11.5|       1.0|\n",
      "|      Glory|   Carnival| 10|             110.0|     29.74|  9.51| 14.87|            36.99|11.6|       1.0|\n",
      "|    Holiday|   Carnival| 28|            46.052|     14.52|  7.27|  7.26|            31.72| 6.6|       1.0|\n",
      "|Imagination|   Carnival| 18|            70.367|     20.52|  8.55|  10.2|            34.29| 9.2|       1.0|\n",
      "|Inspiration|   Carnival| 17|            70.367|     20.52|  8.55|  10.2|            34.29| 9.2|       1.0|\n",
      "|     Legend|   Carnival| 11|              86.0|     21.24|  9.63| 10.62|            40.49| 9.3|       1.0|\n",
      "|   Liberty*|   Carnival|  8|             110.0|     29.74|  9.51| 14.87|            36.99|11.6|       1.0|\n",
      "|    Miracle|   Carnival|  9|              88.5|     21.24|  9.63| 10.62|            41.67|10.3|       1.0|\n",
      "|   Paradise|   Carnival| 15|            70.367|     20.52|  8.55|  10.2|            34.29| 9.2|       1.0|\n",
      "|      Pride|   Carnival| 12|              88.5|     21.24|  9.63| 11.62|            41.67| 9.3|       1.0|\n",
      "|  Sensation|   Carnival| 20|            70.367|     20.52|  8.55|  10.2|            34.29| 9.2|       1.0|\n",
      "+-----------+-----------+---+------------------+----------+------+------+-----------------+----+----------+\n",
      "only showing top 20 rows\n",
      "\n"
     ]
    }
   ],
   "source": [
    "indexed.show()"
   ]
  },
  {
   "cell_type": "code",
   "execution_count": 10,
   "id": "2a55f369-f7b2-4a00-9d0b-e9a9851e1569",
   "metadata": {},
   "outputs": [],
   "source": [
    "from pyspark.ml.linalg import Vector"
   ]
  },
  {
   "cell_type": "code",
   "execution_count": 11,
   "id": "7460c1ea-8955-44f6-bc19-e70659ef8c83",
   "metadata": {},
   "outputs": [],
   "source": [
    "from pyspark.ml.feature import VectorAssembler"
   ]
  },
  {
   "cell_type": "code",
   "execution_count": 12,
   "id": "6d9ba51b-6227-4b8b-8d3d-5804cd28ba8b",
   "metadata": {},
   "outputs": [],
   "source": [
    "assembler = VectorAssembler(inputCols = ['Age' , 'Tonnage' , 'passengers' , 'length' , 'cabins' , 'passenger_density' , 'cruise_cat'] , outputCol='features')"
   ]
  },
  {
   "cell_type": "code",
   "execution_count": 13,
   "id": "7710e3ef-84b3-4fc6-94c2-2544e2c7c3e1",
   "metadata": {},
   "outputs": [],
   "source": [
    "output = assembler.transform(indexed)"
   ]
  },
  {
   "cell_type": "code",
   "execution_count": 15,
   "id": "8a9e6854-8678-4538-997c-42c1887b3125",
   "metadata": {},
   "outputs": [
    {
     "name": "stdout",
     "output_type": "stream",
     "text": [
      "+--------------------+\n",
      "|            features|\n",
      "+--------------------+\n",
      "|[6.0,30.276999999...|\n",
      "|[6.0,30.276999999...|\n",
      "|[26.0,47.262,14.8...|\n",
      "|[11.0,110.0,29.74...|\n",
      "|[17.0,101.353,26....|\n",
      "|[22.0,70.367,20.5...|\n",
      "|[15.0,70.367,20.5...|\n",
      "|[23.0,70.367,20.5...|\n",
      "|[19.0,70.367,20.5...|\n",
      "|[6.0,110.23899999...|\n",
      "|[10.0,110.0,29.74...|\n",
      "|[28.0,46.052,14.5...|\n",
      "|[18.0,70.367,20.5...|\n",
      "|[17.0,70.367,20.5...|\n",
      "|[11.0,86.0,21.24,...|\n",
      "|[8.0,110.0,29.74,...|\n",
      "|[9.0,88.5,21.24,9...|\n",
      "|[15.0,70.367,20.5...|\n",
      "|[12.0,88.5,21.24,...|\n",
      "|[20.0,70.367,20.5...|\n",
      "+--------------------+\n",
      "only showing top 20 rows\n",
      "\n"
     ]
    }
   ],
   "source": [
    "output.select('features').show()"
   ]
  },
  {
   "cell_type": "code",
   "execution_count": 16,
   "id": "5f5802d2-e198-48dd-865b-60d36ca9cf75",
   "metadata": {},
   "outputs": [],
   "source": [
    "final_data = output.select('features' , 'crew')"
   ]
  },
  {
   "cell_type": "code",
   "execution_count": 18,
   "id": "c0783953-6c26-4fcf-b435-e0fdec078d6c",
   "metadata": {},
   "outputs": [],
   "source": [
    "train_data , test_data = final_data.randomSplit([0.7 , 0.3])"
   ]
  },
  {
   "cell_type": "code",
   "execution_count": 20,
   "id": "8783711f-3949-4d20-ba6a-1a752680344d",
   "metadata": {},
   "outputs": [],
   "source": [
    "from pyspark.ml.regression import LinearRegression\n"
   ]
  },
  {
   "cell_type": "code",
   "execution_count": 21,
   "id": "5c2f8d59-d5aa-45de-a465-63f73e8c5159",
   "metadata": {},
   "outputs": [],
   "source": [
    "model = LinearRegression(featuresCol='features' , labelCol='crew')"
   ]
  },
  {
   "cell_type": "code",
   "execution_count": 22,
   "id": "549ef2eb-5929-4639-b19d-5ca5122b1431",
   "metadata": {},
   "outputs": [],
   "source": [
    "trained_model = model.fit(train_data)"
   ]
  },
  {
   "cell_type": "code",
   "execution_count": 23,
   "id": "d919189e-d6d3-4e5c-affa-c88ab020923f",
   "metadata": {},
   "outputs": [],
   "source": [
    "unlabeled_data = test_data.select('features')"
   ]
  },
  {
   "cell_type": "code",
   "execution_count": 24,
   "id": "216d4bb5-8642-460b-97b5-affcd1d32583",
   "metadata": {},
   "outputs": [],
   "source": [
    "pred = trained_model.transform(unlabeled_data)"
   ]
  },
  {
   "cell_type": "code",
   "execution_count": 25,
   "id": "40d166ce-edfe-4ff2-8dec-958cae230284",
   "metadata": {},
   "outputs": [
    {
     "name": "stdout",
     "output_type": "stream",
     "text": [
      "+--------------------+------------------+\n",
      "|            features|        prediction|\n",
      "+--------------------+------------------+\n",
      "|[5.0,160.0,36.34,...|15.315729500368137|\n",
      "|[6.0,30.276999999...| 4.297786869468912|\n",
      "|[6.0,93.0,23.94,9...|10.566973691533564|\n",
      "|[6.0,112.0,38.0,9...| 11.46270270950132|\n",
      "|[6.0,158.0,43.7,1...|14.094225345849447|\n",
      "|[8.0,91.0,22.44,9...|10.059070901294442|\n",
      "|[9.0,59.058,17.0,...| 7.617135848224838|\n",
      "|[9.0,88.5,21.24,9...| 9.493317540204004|\n",
      "|[9.0,113.0,26.74,...|11.451687785416006|\n",
      "|[9.0,116.0,26.0,9...|11.257674982280781|\n",
      "|[10.0,46.0,7.0,6....|2.6794117336306336|\n",
      "|[10.0,77.0,20.16,...|  8.77780406857378|\n",
      "|[10.0,105.0,27.2,...|11.430208727854147|\n",
      "|[10.0,138.0,31.14...| 13.15188743394511|\n",
      "|[10.0,151.4,26.2,...|11.141396304306905|\n",
      "|[11.0,58.6,15.66,...|  7.34576908732067|\n",
      "|[11.0,91.0,20.32,...| 9.099245378330815|\n",
      "|[11.0,138.0,31.14...|13.137926831169095|\n",
      "|[12.0,50.0,7.0,7....| 4.325657814570986|\n",
      "|[12.0,77.104,20.0...| 8.792310483991956|\n",
      "+--------------------+------------------+\n",
      "only showing top 20 rows\n",
      "\n"
     ]
    }
   ],
   "source": [
    "pred.show()"
   ]
  },
  {
   "cell_type": "code",
   "execution_count": 26,
   "id": "a69ec9fd-a269-4fbf-8dfa-0c743244ccdf",
   "metadata": {},
   "outputs": [],
   "source": [
    "results = trained_model.evaluate(train_data)"
   ]
  },
  {
   "cell_type": "code",
   "execution_count": 27,
   "id": "4175915f-dc98-474a-b271-f6b73dbeb3c6",
   "metadata": {},
   "outputs": [
    {
     "data": {
      "text/plain": [
       "0.9155080558014457"
      ]
     },
     "execution_count": 27,
     "metadata": {},
     "output_type": "execute_result"
    }
   ],
   "source": [
    "results.r2"
   ]
  },
  {
   "cell_type": "code",
   "execution_count": null,
   "id": "78154df6-6497-42e0-a80c-468dc547f684",
   "metadata": {},
   "outputs": [],
   "source": []
  }
 ],
 "metadata": {
  "kernelspec": {
   "display_name": "Python 3 (ipykernel)",
   "language": "python",
   "name": "python3"
  },
  "language_info": {
   "codemirror_mode": {
    "name": "ipython",
    "version": 3
   },
   "file_extension": ".py",
   "mimetype": "text/x-python",
   "name": "python",
   "nbconvert_exporter": "python",
   "pygments_lexer": "ipython3",
   "version": "3.12.3"
  }
 },
 "nbformat": 4,
 "nbformat_minor": 5
}
