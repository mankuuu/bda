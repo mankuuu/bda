{
 "cells": [
  {
   "cell_type": "code",
   "execution_count": 1,
   "id": "16669edd-1fd1-4984-a632-f694c8ca05eb",
   "metadata": {},
   "outputs": [],
   "source": [
    "from pyspark.sql import SparkSession"
   ]
  },
  {
   "cell_type": "code",
   "execution_count": 2,
   "id": "7a325973-c4fc-4e2c-83e6-f2616ad01e04",
   "metadata": {},
   "outputs": [],
   "source": [
    "spark = SparkSession.builder.appName(\"MovieRatingsAnalysis\").getOrCreate()"
   ]
  },
  {
   "cell_type": "code",
   "execution_count": null,
   "id": "9b1a9adf-b3d3-4882-9419-78007a979473",
   "metadata": {},
   "outputs": [],
   "source": [
    "movies_df = spark.read.csv('' , inferSchema= True , header = True)\n",
    "ratings_df = spark.read.csv('' , inferSchema = True , header = True)"
   ]
  },
  {
   "cell_type": "code",
   "execution_count": null,
   "id": "06dee923-637f-4a0b-9228-3cb28a9c1d4c",
   "metadata": {},
   "outputs": [],
   "source": [
    "movies_rdd = movies_df.rdd\n",
    "ratings_rdd = ratings_df.rdd"
   ]
  },
  {
   "cell_type": "markdown",
   "id": "77d1a597-cd40-44b7-ab91-8d208877e251",
   "metadata": {},
   "source": [
    "<h1>A</h1>"
   ]
  },
  {
   "cell_type": "code",
   "execution_count": 3,
   "id": "a3b98b89-1598-4c0e-9957-26d40b87effa",
   "metadata": {},
   "outputs": [
    {
     "ename": "NameError",
     "evalue": "name 'ratings_rdd' is not defined",
     "output_type": "error",
     "traceback": [
      "\u001b[1;31m---------------------------------------------------------------------------\u001b[0m",
      "\u001b[1;31mNameError\u001b[0m                                 Traceback (most recent call last)",
      "Cell \u001b[1;32mIn[3], line 1\u001b[0m\n\u001b[1;32m----> 1\u001b[0m avg_ratings_rdd \u001b[38;5;241m=\u001b[39m \u001b[43mratings_rdd\u001b[49m\u001b[38;5;241m.\u001b[39mmap(\u001b[38;5;28;01mlambda\u001b[39;00m x: (x[\u001b[38;5;124m'\u001b[39m\u001b[38;5;124mmovieId\u001b[39m\u001b[38;5;124m'\u001b[39m], (x[\u001b[38;5;124m'\u001b[39m\u001b[38;5;124mrating\u001b[39m\u001b[38;5;124m'\u001b[39m], \u001b[38;5;241m1\u001b[39m)))\\\n\u001b[0;32m      2\u001b[0m \u001b[38;5;241m.\u001b[39mreduceByKey(\u001b[38;5;28;01mlambda\u001b[39;00m x, y: (x[\u001b[38;5;241m0\u001b[39m] \u001b[38;5;241m+\u001b[39m y[\u001b[38;5;241m0\u001b[39m], x[\u001b[38;5;241m1\u001b[39m] \u001b[38;5;241m+\u001b[39m y[\u001b[38;5;241m1\u001b[39m]))\\\n\u001b[0;32m      3\u001b[0m \u001b[38;5;241m.\u001b[39mmapValues(\u001b[38;5;28;01mlambda\u001b[39;00m x: x[\u001b[38;5;241m0\u001b[39m] \u001b[38;5;241m/\u001b[39m x[\u001b[38;5;241m1\u001b[39m])\n",
      "\u001b[1;31mNameError\u001b[0m: name 'ratings_rdd' is not defined"
     ]
    }
   ],
   "source": [
    "avg_ratings_rdd = ratings_rdd.map(lambda x: (x['movieId'], (x['rating'], 1)))\\\n",
    ".reduceByKey(lambda x, y: (x[0] + y[0], x[1] + y[1]))\\\n",
    ".mapValues(lambda x: x[0] / x[1])"
   ]
  },
  {
   "cell_type": "code",
   "execution_count": null,
   "id": "75013a97-714d-4632-9bb5-675527b77f91",
   "metadata": {},
   "outputs": [],
   "source": [
    "lowest_avg_rating = avg_ratings_rdd.sortBy(lambda x: x[1]).first()\n",
    "print(f\"Movie with the lowest average rating: {lowest_avg_rating}\""
   ]
  },
  {
   "cell_type": "markdown",
   "id": "642d183a-bf26-44c0-9bff-4f27d7fcbc73",
   "metadata": {},
   "source": [
    "<h1>B</h1>"
   ]
  },
  {
   "cell_type": "code",
   "execution_count": null,
   "id": "e8852845-8c6a-4f37-8fe7-89e98467a476",
   "metadata": {},
   "outputs": [],
   "source": [
    "user_ratings_count = ratings_rdd.map(lambda x: (x['userId'], 1))\\\n",
    ".reduceByKey(lambda x, y: x + y)\\\n",
    ".sortBy(lambda x: x[1], ascending=False)\n",
    "# Get top users\n",
    "top_users = user_ratings_count.take(10)\n",
    "print(f\"Top users by number of ratings: {top_users}\")"
   ]
  },
  {
   "cell_type": "markdown",
   "id": "26117fb5-fc07-44c9-85ac-eae7a8b40629",
   "metadata": {},
   "source": [
    "<h1>C</h1>"
   ]
  },
  {
   "cell_type": "code",
   "execution_count": null,
   "id": "3c1e57ff-3a62-4385-8d0f-c5d783087513",
   "metadata": {},
   "outputs": [],
   "source": [
    "from pyspark.sql.functions import from_unixtime, year, month\n",
    "# Convert timestamp to date and extract year and month\n",
    "ratings_df = ratings_df.withColumn(\"year\", year(from_unixtime(ratings_df['timestamp'])))\\\n",
    ".withColumn(\"month\", month(from_unixtime(ratings_df['timestamp'])))\n",
    "# Group by year and month to get rating counts\n",
    "ratings_over_time = ratings_df.groupBy(\"year\", \"month\").count().orderBy(\"year\", \"month\")\n",
    "ratings_over_time.show()"
   ]
  },
  {
   "cell_type": "markdown",
   "id": "f3844c46-119f-4829-9350-8f965d219329",
   "metadata": {},
   "source": [
    "<h1>D</h1>"
   ]
  },
  {
   "cell_type": "code",
   "execution_count": null,
   "id": "f754176a-a543-42c0-8e47-fec1b9ad3fdb",
   "metadata": {},
   "outputs": [],
   "source": [
    "movie_ratings_stats = ratings_rdd.map(lambda x: (x['movieId'], (x['rating'], 1)))\\\n",
    ".reduceByKey(lambda x, y: (x[0] + y[0], x[1] + y[1]))\\\n",
    ".mapValues(lambda x: (x[0] / x[1], x[1])) # (avg_rating, count)\n",
    "# Filter movies with a minimum number of ratings\n",
    "min_ratings = 100\n",
    "qualified_movies = movie_ratings_stats.filter(lambda x: x[1][1] >= min_ratings)\n",
    "# Find the highest-rated movies\n",
    "highest_rated_movies = qualified_movies.sortBy(lambda x: x[1][0], ascending=False).take(10)\n",
    "print(f\"Highest-rated movies with at least {min_ratings} ratings: {highest_rated_movies}\")"
   ]
  }
 ],
 "metadata": {
  "kernelspec": {
   "display_name": "Python 3 (ipykernel)",
   "language": "python",
   "name": "python3"
  },
  "language_info": {
   "codemirror_mode": {
    "name": "ipython",
    "version": 3
   },
   "file_extension": ".py",
   "mimetype": "text/x-python",
   "name": "python",
   "nbconvert_exporter": "python",
   "pygments_lexer": "ipython3",
   "version": "3.12.3"
  }
 },
 "nbformat": 4,
 "nbformat_minor": 5
}
